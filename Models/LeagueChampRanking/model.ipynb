{
 "cells": [
  {
   "cell_type": "code",
   "execution_count": 1,
   "metadata": {},
   "outputs": [],
   "source": [
    "import pandas as pd\n",
    "from sklearn.preprocessing import MinMaxScaler\n"
   ]
  },
  {
   "cell_type": "code",
   "execution_count": 10,
   "metadata": {},
   "outputs": [
    {
     "name": "stdout",
     "output_type": "stream",
     "text": [
      "hmm ?  Champion Name             Pyke\n",
      "Role                   Support\n",
      "Base Health                600\n",
      "Base Mana                  415\n",
      "Base Armor                  45\n",
      "Base Attack Damage          62\n",
      "Gold Efficiency           1.08\n",
      "Composite Score       3.793994\n",
      "Name: 86, dtype: object\n"
     ]
    }
   ],
   "source": [
    "# Import dataset\n",
    "dataset = pd.read_csv('../../datasets/champions.csv')\n",
    "\n",
    "# Extract columns\n",
    "stats = dataset[['Base Health', 'Base Mana', 'Base Armor', 'Base Attack Damage', 'Gold Efficiency']]\n",
    "\n",
    "# Scale Columns\n",
    "scaler = MinMaxScaler()\n",
    "\n",
    "# Scaled each stat\n",
    "normalized_stats = scaler.fit_transform(stats)\n",
    "# print(normalized_stats)\n",
    "\n",
    "# Create a DataFrame with normalized stats\n",
    "normalized_df = pd.DataFrame(normalized_stats, columns=stats.columns)\n",
    "\n",
    "# Create a new column of \n",
    "dataset['Composite Score'] = normalized_df.sum(axis=1)\n",
    "\n",
    "# print(dataset)\n",
    "\n",
    "df_sorted_desc = dataset.sort_values(by='Composite Score', ascending=False)\n",
    "# print('before')\n",
    "# print(df_sorted_desc)\n",
    "\n",
    "df_sorted_desc = df_sorted_desc.reset_index(drop=True)\n",
    "\n",
    "print(df_sorted_desc)\n",
    "\n",
    "# df_sorted_desc.to_csv('./output_indexed.csv', index=False)\n",
    "\n",
    "# Find the champion with the best stats\n",
    "# best_champion = dataset.loc[dataset['Composite Score'].idxmax()]"
   ]
  }
 ],
 "metadata": {
  "kernelspec": {
   "display_name": "base",
   "language": "python",
   "name": "python3"
  },
  "language_info": {
   "codemirror_mode": {
    "name": "ipython",
    "version": 3
   },
   "file_extension": ".py",
   "mimetype": "text/x-python",
   "name": "python",
   "nbconvert_exporter": "python",
   "pygments_lexer": "ipython3",
   "version": "3.11.5"
  }
 },
 "nbformat": 4,
 "nbformat_minor": 2
}
